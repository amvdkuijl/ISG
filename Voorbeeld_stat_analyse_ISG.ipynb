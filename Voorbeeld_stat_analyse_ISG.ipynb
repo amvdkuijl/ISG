{
 "cells": [
  {
   "cell_type": "markdown",
   "id": "75802381",
   "metadata": {},
   "source": [
    "### Setup"
   ]
  },
  {
   "cell_type": "code",
   "execution_count": null,
   "id": "7abf0f37",
   "metadata": {},
   "outputs": [],
   "source": [
    "suppressWarnings(library(tidyverse))"
   ]
  },
  {
   "cell_type": "markdown",
   "id": "dcc56226",
   "metadata": {},
   "source": [
    "## Introduction\n",
    "\n",
    "Before you read in your data, make sure that: \n",
    "\n",
    "1. You upload the data to this environment by following the steps learnend in ICT-basics in year 1. \n",
    "\n",
    "2. ..."
   ]
  },
  {
   "cell_type": "markdown",
   "id": "af666ca9",
   "metadata": {},
   "source": [
    "## Load the data"
   ]
  },
  {
   "cell_type": "code",
   "execution_count": null,
   "id": "4a67fa84",
   "metadata": {},
   "outputs": [],
   "source": [
    "drug1 <- read.csv(\"Drug_1_sample.csv\")\n",
    "drug2 <- read.csv(\"Drug_2_sample.csv\")"
   ]
  },
  {
   "cell_type": "markdown",
   "id": "28d6af9f",
   "metadata": {},
   "source": [
    "## Create histogram & qqplot\n",
    "\n",
    "Below, we will check if the data is approximately normal distributed or not."
   ]
  },
  {
   "cell_type": "code",
   "execution_count": null,
   "id": "c77bd0a3",
   "metadata": {},
   "outputs": [],
   "source": [
    "ggplot(NULL, aes(x = C1)) +\n",
    "  geom_histogram(data = drug1) +\n",
    "  geom_histogram(data = drug2) +\n",
    "  facet_grid(~Drug, scales = \"free\") +\n",
    "  theme_bw()"
   ]
  },
  {
   "cell_type": "code",
   "execution_count": null,
   "id": "2f74134a",
   "metadata": {},
   "outputs": [],
   "source": [
    "ggplot(NULL, aes(sample = C1)) +\n",
    "  geom_qq(data = drug1) +\n",
    "  geom_qq(data = drug2) +\n",
    "  facet_grid(~Drug, scales = \"free\") +\n",
    "  theme_bw()"
   ]
  }
 ],
 "metadata": {
  "kernelspec": {
   "display_name": "R with Stan",
   "language": "R",
   "name": "ir"
  },
  "language_info": {
   "codemirror_mode": "r",
   "file_extension": ".r",
   "mimetype": "text/x-r-source",
   "name": "R",
   "pygments_lexer": "r",
   "version": "4.1.1"
  }
 },
 "nbformat": 4,
 "nbformat_minor": 5
}
